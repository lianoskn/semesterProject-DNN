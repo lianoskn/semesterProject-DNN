{
 "metadata": {
  "name": ""
 },
 "nbformat": 3,
 "nbformat_minor": 0,
 "worksheets": [
  {
   "cells": [
    {
     "cell_type": "code",
     "collapsed": false,
     "input": [
      "%matplotlib inline\n",
      "import os\n",
      "\n",
      "import matplotlib.pyplot as plt\n",
      "\n",
      "from scipy import misc\n",
      "import numpy as np\n",
      "import time\n",
      "import queue\n",
      "import threading\n",
      "import shutil as sh"
     ],
     "language": "python",
     "metadata": {},
     "outputs": [],
     "prompt_number": 1
    },
    {
     "cell_type": "code",
     "collapsed": false,
     "input": [
      "dirpath = \"/home/lianos91/Desktop/training_patches/train_patches_128_64/\"\n",
      "destpath = \"/home/lianos91/Desktop/training_patches/train_patches_128_64_rich/train_rich_tiny/\"\n",
      "img_size = 64 * 64\n",
      "index = 1"
     ],
     "language": "python",
     "metadata": {},
     "outputs": [],
     "prompt_number": 2
    },
    {
     "cell_type": "code",
     "collapsed": false,
     "input": [
      "startParse = time.time()\n",
      "fileslist = next(os.walk(dirpath+\"train/\"))[2]\n",
      "fileslist.sort()\n",
      "endParse = time.time()\n",
      "print(endParse - startParse)\n",
      "file = fileslist[0]\n",
      "dir_size = len(fileslist)"
     ],
     "language": "python",
     "metadata": {},
     "outputs": [
      {
       "output_type": "stream",
       "stream": "stdout",
       "text": [
        "324.4190363883972\n"
       ]
      }
     ],
     "prompt_number": 3
    },
    {
     "cell_type": "code",
     "collapsed": false,
     "input": [
      "len(fileslist)"
     ],
     "language": "python",
     "metadata": {},
     "outputs": [
      {
       "metadata": {},
       "output_type": "pyout",
       "prompt_number": 4,
       "text": [
        "1688058"
       ]
      }
     ],
     "prompt_number": 4
    },
    {
     "cell_type": "code",
     "collapsed": false,
     "input": [
      "###############\n",
      "## Copy sequences to new dir\n",
      "hist0 = np.zeros([120])\n",
      "hist1 = np.zeros([120])\n",
      "\n",
      "index=0\n",
      "k=0\n",
      "dir_size = len(fileslist)\n",
      "K = 0\n",
      "\n",
      "while K == 0:\n",
      "    f = fileslist[index]\n",
      "    tokens = f.split(\"_\")\n",
      "    tokens[len(tokens)-1] = tokens[len(tokens)-1].split(\".\")[0]    \n",
      "    seqLen  = int(tokens[3])\n",
      "    \n",
      "    tidx = index    \n",
      "    #print(seqLen)\n",
      "    pivot_name  = tokens[0]\n",
      "    pivot_seqid = tokens[1]      \n",
      "    #print(pivot_name)\n",
      "    #print(pivot_seqid)\n",
      "    names = []\n",
      "    for i in range (0,seqLen+1):\n",
      "        file = fileslist[tidx]\n",
      "        tokens = file.split(\"_\")\n",
      "        tokens[len(tokens)-1] = tokens[len(tokens)-1].split(\".\")[0]\n",
      "        if pivot_name != tokens[0] or pivot_seqid != tokens[1]:\n",
      "            break    \n",
      "        tidx+=1   \n",
      "        if tidx >= dir_size:\n",
      "            K=1\n",
      "            break\n",
      "    \n",
      "    seqLen = i\n",
      "\n",
      "    imlabel = tokens[4]\n",
      "   \n",
      "\n",
      "    #print(seqLen)\n",
      "    if  (seqLen >= 10) :\n",
      "        #copy file and update histogram\n",
      "        for i in range(seqLen):\n",
      "            f = fileslist[index]\n",
      "            sh.copy(dirpath+\"train/\"+f,destpath)\n",
      "            index+=1\n",
      "        k = k + 1\n",
      "        if int(imlabel) == 1:\n",
      "            hist1[seqLen] += 1\n",
      "        else:\n",
      "            hist0[seqLen] += 1\n",
      "        \n",
      "    else:    \n",
      "        index = (index + seqLen )\n",
      "        if index >= dir_size-1:\n",
      "            break\n",
      "    if K == 1:\n",
      "        break\n",
      "y = plt.figure(1)\n",
      "plt.plot(hist1,'b')\n",
      "plt.hold\n",
      "plt.plot(hist0,'r')\n",
      "print( np.sum(np.array(hist0)) + np.sum(np.array(hist1)) )\n"
     ],
     "language": "python",
     "metadata": {},
     "outputs": [
      {
       "output_type": "stream",
       "stream": "stdout",
       "text": [
        "2569.0\n"
       ]
      },
      {
       "metadata": {},
       "output_type": "display_data",
       "png": "[encoded data removed]",
       "text": [
        "<matplotlib.figure.Figure at 0x7fc5fc55ab70>"
       ]
      }
     ],
     "prompt_number": 7
    },
    {
     "cell_type": "code",
     "collapsed": false,
     "input": [
      "startAcc = time.time()\n",
      "file = fileslist[0]\n",
      "img = misc.imread(dirpath+\"train_small/\"+file)\n",
      "endAcc = time.time()\n",
      "print(endAcc - startAcc)"
     ],
     "language": "python",
     "metadata": {},
     "outputs": [
      {
       "output_type": "stream",
       "stream": "stdout",
       "text": [
        "0.047582149505615234\n"
       ]
      }
     ],
     "prompt_number": 20
    },
    {
     "cell_type": "code",
     "collapsed": false,
     "input": [
      "hist1"
     ],
     "language": "python",
     "metadata": {},
     "outputs": [
      {
       "metadata": {},
       "output_type": "pyout",
       "prompt_number": 21,
       "text": [
        "'44be314f0190403780fa7c6bfd6058b8_0_1_11_1.png'"
       ]
      }
     ],
     "prompt_number": 21
    },
    {
     "cell_type": "code",
     "collapsed": false,
     "input": [
      "\n",
      "tokens = file.split(\"_\")\n",
      "tokens[len(tokens)-1] = tokens[len(tokens)-1].split(\".\")[0]    \n",
      "seqId   = int(tokens[1])\n",
      "imId    = int(tokens[2])\n",
      "seqLen  = int(tokens[3])              \n",
      "imlabel = np.zeros(2)\n",
      "imlabel[int(tokens[4])] = 1 \n",
      "imlabel"
     ],
     "language": "python",
     "metadata": {},
     "outputs": [
      {
       "metadata": {},
       "output_type": "pyout",
       "prompt_number": 22,
       "text": [
        "array([ 0.,  1.])"
       ]
      }
     ],
     "prompt_number": 22
    },
    {
     "cell_type": "code",
     "collapsed": false,
     "input": [
      "def read_file():\n",
      "        file = fileslist[index]\n",
      "        img = misc.imread(dirpath+\"train_small/\"+file)\n",
      "        \n",
      "        # get input image\n",
      "        img.astype(np.float32)\n",
      "        img = img/255.0  \n",
      "\n",
      "        #parse tokens\n",
      "        tokens = file.split(\"_\")\n",
      "        tokens[len(tokens)-1] = tokens[len(tokens)-1].split(\".\")[0]    \n",
      "        seqId   = int(tokens[1])\n",
      "        imId    = int(tokens[2])\n",
      "        seqLen  = int(tokens[3])\n",
      "        imlabel = tokens[4]  \n",
      "        \n",
      "        img = np.reshape(img,img_size)\n",
      "        return seqimg,imlabel        \n"
     ],
     "language": "python",
     "metadata": {},
     "outputs": [],
     "prompt_number": 12
    },
    {
     "cell_type": "code",
     "collapsed": false,
     "input": [
      "dir_size"
     ],
     "language": "python",
     "metadata": {},
     "outputs": [
      {
       "metadata": {},
       "output_type": "pyout",
       "prompt_number": 70,
       "text": [
        "1688058"
       ]
      }
     ],
     "prompt_number": 70
    },
    {
     "cell_type": "code",
     "collapsed": false,
     "input": [
      "###### Create a histogram with lengths\n",
      "import time\n",
      "dirpath2 = \"/home/lianos91/Desktop/training_patches/train_patches_128_64/\"\n",
      "startParse = time.time()\n",
      "fileslist2 = next(os.walk(dirpath2+\"val/\"))[2]\n",
      "fileslist2.sort()\n",
      "endParse = time.time()\n",
      "print(endParse - startParse)\n",
      "file = fileslist2[0]\n"
     ],
     "language": "python",
     "metadata": {},
     "outputs": [
      {
       "output_type": "stream",
       "stream": "stdout",
       "text": [
        "64.78404808044434\n"
       ]
      }
     ],
     "prompt_number": 9
    },
    {
     "cell_type": "code",
     "collapsed": false,
     "input": [
      "dir_size = len(fileslist2)\n",
      "dir_size"
     ],
     "language": "python",
     "metadata": {},
     "outputs": [
      {
       "metadata": {},
       "output_type": "pyout",
       "prompt_number": 11,
       "text": [
        "422331"
       ]
      }
     ],
     "prompt_number": 11
    },
    {
     "cell_type": "code",
     "collapsed": false,
     "input": [
      "\n",
      "\n",
      "# fileslist2: train_small\n",
      "# fileslist: train\n",
      "\n",
      "flist = fileslist2\n",
      "\n",
      "hsize = 61\n",
      "\n",
      "\n",
      "dir_size = len(flist)\n",
      "hist0 = np.zeros([hsize])\n",
      "hist1 = np.zeros([hsize])\n",
      "index=0\n",
      "s = 0\n",
      "while True:\n",
      "    f = flist[index]\n",
      "    tokens = f.split(\"_\")\n",
      "    tokens[len(tokens)-1] = tokens[len(tokens)-1].split(\".\")[0]    \n",
      "    seqLen  = int(tokens[3])\n",
      "    \n",
      "    tidx = index    \n",
      "    #print(seqLen)\n",
      "    pivot_name  = tokens[0]\n",
      "    pivot_seqid = tokens[1]\n",
      "    pivot_lbl = tokens[4]\n",
      "    #print(pivot_name)\n",
      "    #print(pivot_seqid)\n",
      "    names = []\n",
      "    for i in range (0,seqLen+1):\n",
      "        file = flist[tidx]\n",
      "        tokens = file.split(\"_\")\n",
      "        tokens[len(tokens)-1] = tokens[len(tokens)-1].split(\".\")[0]\n",
      "        if pivot_name != tokens[0] or pivot_seqid != tokens[1] or tokens[4] != pivot_lbl:\n",
      "            break    \n",
      "        tidx+=1   \n",
      "        if tidx >= dir_size:\n",
      "            break\n",
      "    \n",
      "    seqLen = i\n",
      "    s += seqLen\n",
      "    imlabel = tokens[4]\n",
      "    seqLen = np.min([seqLen,hsize-1])\n",
      "    if int(imlabel) == 1:\n",
      "        hist1[seqLen] += 1\n",
      "    else:\n",
      "        hist0[seqLen] += 1\n",
      "    \n",
      "    index = index + seqLen\n",
      "    #print(index)\n",
      "    if index >= dir_size-1:\n",
      "        break\n",
      "    \n",
      "\n",
      "y = plt.figure(1)\n",
      "plt.plot(hist1,'b')\n",
      "plt.hold\n",
      "plt.plot(hist0,'r')\n",
      "plt.legend(['positive','negative'])\n",
      "plt.xlabel('sequence length')\n",
      "#print(s)\n",
      "#print( np.sum(np.array(hist0)) + np.sum(np.array(hist1)) )\n",
      "#rects1 = y.bar(ind, menMeans, width, color='r', yerr=menStd)\n",
      "#y.savefig('hist_train_.jpg')"
     ],
     "language": "python",
     "metadata": {},
     "outputs": [
      {
       "metadata": {},
       "output_type": "pyout",
       "prompt_number": 12,
       "text": [
        "<matplotlib.text.Text at 0x7f09c8ad8dd8>"
       ]
      },
      {
       "metadata": {},
       "output_type": "display_data",
       "png": "[encoded data removed]",
       "text": [
        "<matplotlib.figure.Figure at 0x7f09c14a90f0>"
       ]
      }
     ],
     "prompt_number": 12
    },
    {
     "cell_type": "code",
     "collapsed": false,
     "input": [
      "a = (np.array(hist0)) + np.array(hist1)\n",
      "y = plt.figure(1)\n",
      "rects1 = plt.bar(np.arange(hsize), a, .42, color='r')\n",
      "#y.savefig('hist_train.jpg')"
     ],
     "language": "python",
     "metadata": {},
     "outputs": [
      {
       "metadata": {},
       "output_type": "display_data",
       "png": "[encoded data removed]",
       "text": [
        "<matplotlib.figure.Figure at 0x7f09c8a99f60>"
       ]
      }
     ],
     "prompt_number": 13
    },
    {
     "cell_type": "code",
     "collapsed": false,
     "input": [
      "np.sum(hist00[4])"
     ],
     "language": "python",
     "metadata": {},
     "outputs": [
      {
       "ename": "NameError",
       "evalue": "name 'np' is not defined",
       "output_type": "pyerr",
       "traceback": [
        "\u001b[0;31m---------------------------------------------------------------------------\u001b[0m\n\u001b[0;31mNameError\u001b[0m                                 Traceback (most recent call last)",
        "\u001b[0;32m<ipython-input-1-0343f83a7cd0>\u001b[0m in \u001b[0;36m<module>\u001b[0;34m()\u001b[0m\n\u001b[0;32m----> 1\u001b[0;31m \u001b[0mnp\u001b[0m\u001b[0;34m.\u001b[0m\u001b[0msum\u001b[0m\u001b[0;34m(\u001b[0m\u001b[0mhist00\u001b[0m\u001b[0;34m[\u001b[0m\u001b[0;36m4\u001b[0m\u001b[0;34m]\u001b[0m\u001b[0;34m)\u001b[0m\u001b[0;34m\u001b[0m\u001b[0m\n\u001b[0m",
        "\u001b[0;31mNameError\u001b[0m: name 'np' is not defined"
       ]
      }
     ],
     "prompt_number": 1
    },
    {
     "cell_type": "code",
     "collapsed": false,
     "input": [
      "hist11 = np.copy(hist1)\n",
      "hist00 = np.copy(hist0)\n",
      "hist11[0:4] = 0\n",
      "hist00[0:4] = 0\n",
      "print( np.sum(np.array(hist00)) + np.sum(np.array(hist11)) )\n",
      "\n",
      "plt.plot(hist11,'b')\n",
      "plt.hold\n",
      "plt.plot(hist00,'r')"
     ],
     "language": "python",
     "metadata": {},
     "outputs": [
      {
       "output_type": "stream",
       "stream": "stdout",
       "text": [
        "21198.0\n"
       ]
      },
      {
       "metadata": {},
       "output_type": "pyout",
       "prompt_number": 29,
       "text": [
        "[<matplotlib.lines.Line2D at 0x7f02911c4048>]"
       ]
      },
      {
       "metadata": {},
       "output_type": "display_data",
       "png": "[encoded data removed]",
       "text": [
        "<matplotlib.figure.Figure at 0x7f02911c4128>"
       ]
      }
     ],
     "prompt_number": 29
    },
    {
     "cell_type": "code",
     "collapsed": false,
     "input": [
      "#def read_sequence(self):\n",
      "index = 0\n",
      "fileslist2.sort(key=None)\n",
      "dsize = len(fileslist2)\n",
      "K = 1\n",
      "while K ==0:\n",
      "    \n",
      "    file = fileslist2[index]\n",
      "    tokens = file.split(\"_\")\n",
      "    tokens[len(tokens)-1] = tokens[len(tokens)-1].split(\".\")[0]    \n",
      "    seqLen  = int(tokens[3])\n",
      "        \n",
      "    #print(seqLen)\n",
      "    pivot_name  = tokens[0]\n",
      "    pivot_seqid = tokens[1]      \n",
      "    print(pivot_name)\n",
      "    #print(pivot_seqid)\n",
      "    names = []\n",
      "    for i in range (0,seqLen+1):\n",
      "        file = fileslist2[index]\n",
      "        tokens = file.split(\"_\")\n",
      "        tokens[len(tokens)-1] = tokens[len(tokens)-1].split(\".\")[0]\n",
      "        #print(index)\n",
      "        #print(tokens[0])\n",
      "        #print(tokens[1])\n",
      "        if pivot_name != tokens[0] or pivot_seqid != tokens[1]:\n",
      "            break    \n",
      "        index+=1   \n",
      "        if index >= dsize:\n",
      "            K=1\n",
      "            break\n",
      "        \n",
      "        \n",
      "    #print(seqLen)\n",
      "    #print(i)\n",
      "    #print(\" \")"
     ],
     "language": "python",
     "metadata": {},
     "outputs": [],
     "prompt_number": 73
    },
    {
     "cell_type": "code",
     "collapsed": false,
     "input": [
      "print(\"1\")\n",
      "#for i in range(len(fileslist2)):\n",
      "    #print(fileslist2[i]) "
     ],
     "language": "python",
     "metadata": {},
     "outputs": [
      {
       "output_type": "stream",
       "stream": "stdout",
       "text": [
        "1\n"
       ]
      }
     ],
     "prompt_number": 74
    },
    {
     "cell_type": "code",
     "collapsed": false,
     "input": [],
     "language": "python",
     "metadata": {},
     "outputs": []
    }
   ],
   "metadata": {}
  }
 ]
}